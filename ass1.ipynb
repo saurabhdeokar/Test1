{
 "cells": [
  {
   "cell_type": "code",
   "execution_count": 18,
   "id": "9f198458-e606-420b-86ae-8bda46e19374",
   "metadata": {},
   "outputs": [],
   "source": [
    "#1\n",
    "'''wap to convert specified days into years,weeks and days\n",
    "take user input \n",
    "ignore leap year'''"
   ]
  },
  {
   "cell_type": "code",
   "execution_count": 16,
   "id": "65423cc9-934c-4379-8c96-95ec0e05cb30",
   "metadata": {},
   "outputs": [
    {
     "name": "stdin",
     "output_type": "stream",
     "text": [
      "enter number of days: 365\n"
     ]
    },
    {
     "name": "stdout",
     "output_type": "stream",
     "text": [
      "year= 1   week= 52   days= 365  \n"
     ]
    }
   ],
   "source": [
    "days=int(input('enter number of days:'))\n",
    "year=days//365\n",
    "week=days//7\n",
    "print('year=',year,' ','week=',week,' ','days=',days,' ')"
   ]
  },
  {
   "cell_type": "code",
   "execution_count": null,
   "id": "a6038444-d073-4cba-9c36-33f62517e44e",
   "metadata": {},
   "outputs": [],
   "source": []
  },
  {
   "cell_type": "code",
   "execution_count": null,
   "id": "41e1eea1-e67b-4275-b7b4-efdcecf44329",
   "metadata": {},
   "outputs": [],
   "source": [
    "#2\n",
    "'''wap to input basiPython salary of an employee and calculate its gross salary according to following:\n",
    "basic salary<=10000:hra=20%,da=80%\n",
    "basic salary<=20000:hra=30%,da=90%\n",
    "basic salary>20000:hra=35%,da=95%'''"
   ]
  },
  {
   "cell_type": "code",
   "execution_count": 36,
   "id": "d42fe16c-7791-4840-8902-7baf639aad99",
   "metadata": {},
   "outputs": [
    {
     "name": "stdin",
     "output_type": "stream",
     "text": [
      "enter basic salary of an employee 10000\n"
     ]
    },
    {
     "name": "stdout",
     "output_type": "stream",
     "text": [
      "gross salary= 20000.0\n"
     ]
    }
   ],
   "source": [
    "basic_salary=int(input('enter basic salary of an employee'))\n",
    "\n",
    "\n",
    "if basic_salary<=10000:\n",
    "    hra=basic_salary*0.20\n",
    "    da=basic_salary*0.80\n",
    "    gross_salary=basic_salary+hra+da\n",
    "    print('gross salary=',gross_salary)\n",
    "\n",
    "elif basic_salary<=20000:\n",
    "    hra=basic_salary*0.30\n",
    "    da=basic_salary*0.90\n",
    "    gross_salary=basic_salary+hra+da\n",
    "    print('gross salary=',gross_salary)\n",
    "\n",
    "elif basic_salary>20000:\n",
    "    hra=basic_salary*0.35\n",
    "    da=basic_salary*0.95\n",
    "    gross_salary=basic_salary+hra+da\n",
    "    print('gross salary=',gross_salary)\n",
    "    \n",
    "#else:\n",
    " #   print('please enter correct value')"
   ]
  },
  {
   "cell_type": "code",
   "execution_count": null,
   "id": "a6f95daa-8ebe-47e5-af53-8c33ff54b46c",
   "metadata": {},
   "outputs": [],
   "source": []
  },
  {
   "cell_type": "code",
   "execution_count": null,
   "id": "3e11e174-0e5d-4a33-a0a9-700ef38829c7",
   "metadata": {},
   "outputs": [],
   "source": [
    "#3\n",
    "'''wap to input electricity unit charges and calculate total electricity bill according to given condition:\n",
    "for first 50 units rs.0.50/unit\n",
    "for next 100 units rs.0.75/unit\n",
    "for next 100 units rs.1.25/unit\n",
    "for unit above 250 rs. 1.50/unit\n",
    "\n",
    "an additional surcharge of 17% is added to the bill'''"
   ]
  },
  {
   "cell_type": "code",
   "execution_count": 1,
   "id": "44c29c07-40e6-4f39-b098-cd7824493983",
   "metadata": {},
   "outputs": [
    {
     "name": "stdin",
     "output_type": "stream",
     "text": [
      "enter unit: 40\n"
     ]
    },
    {
     "name": "stdout",
     "output_type": "stream",
     "text": [
      "bill= 20.0\n",
      "total bill= 20.17\n"
     ]
    }
   ],
   "source": [
    "unit=int(input('enter unit:'))\n",
    "if unit<=50:\n",
    "    amt=unit*0.5\n",
    "    print('bill=',amt)\n",
    "\n",
    "elif unit<=150 and unit>50:\n",
    "    amt=unit*0.75\n",
    "    print('bill=',amt)\n",
    "\n",
    "elif unit<=250 and unit>150:\n",
    "    amt=unit*1.25\n",
    "    print('bill=',amt)\n",
    "\n",
    "elif unit>=250:\n",
    "    amt=unit*1.50\n",
    "    print('bill=',amt)\n",
    "\n",
    "total_bill=amt+0.17\n",
    "print('total bill=',total_bill)\n"
   ]
  },
  {
   "cell_type": "code",
   "execution_count": null,
   "id": "57114300-ad66-4f76-935d-3bab6e8e0ffc",
   "metadata": {},
   "outputs": [],
   "source": []
  },
  {
   "cell_type": "code",
   "execution_count": null,
   "id": "94189c88-6ffe-45da-9960-f55665ced781",
   "metadata": {},
   "outputs": [],
   "source": [
    "#4\n",
    "'''wap to print given pattern\n",
    "1\n",
    "22\n",
    "333\n",
    "4444\n",
    "55555'''"
   ]
  },
  {
   "cell_type": "code",
   "execution_count": 51,
   "id": "8b7d0b07-74a4-4518-845b-a50d381d93f1",
   "metadata": {},
   "outputs": [
    {
     "name": "stdin",
     "output_type": "stream",
     "text": [
      "enter number of rows u want to print: 5\n"
     ]
    },
    {
     "name": "stdout",
     "output_type": "stream",
     "text": [
      " \n",
      "1 \n",
      "22 \n",
      "333 \n",
      "4444 \n",
      "55555"
     ]
    }
   ],
   "source": [
    "row=int(input('enter number of rows u want to print:'))\n",
    "for i in range(1,row+1):\n",
    "    print(' ')\n",
    "    for j in range(i):\n",
    "        print(i, end='')"
   ]
  },
  {
   "cell_type": "code",
   "execution_count": null,
   "id": "435fe5f3-f97c-496a-b472-fdb4063ebc12",
   "metadata": {},
   "outputs": [],
   "source": []
  },
  {
   "cell_type": "code",
   "execution_count": null,
   "id": "5d0f71ce-080e-482b-96f3-553097463c3c",
   "metadata": {},
   "outputs": [],
   "source": [
    "#5\n",
    "'''wap to calculate product of digits of a number. read value of n from user'''"
   ]
  },
  {
   "cell_type": "code",
   "execution_count": 53,
   "id": "946172a1-6b04-4eb9-8ea3-06f753766c93",
   "metadata": {},
   "outputs": [
    {
     "name": "stdin",
     "output_type": "stream",
     "text": [
      "enter number 12345\n"
     ]
    },
    {
     "name": "stdout",
     "output_type": "stream",
     "text": [
      "product: 120\n"
     ]
    }
   ],
   "source": [
    "n=int(input('enter number'))\n",
    "mul=1\n",
    "while n>0:\n",
    "    rem=n%10\n",
    "    mul=mul*rem\n",
    "    n=n//10\n",
    "print('product:',mul) "
   ]
  },
  {
   "cell_type": "code",
   "execution_count": null,
   "id": "377c7c0b-bde6-4089-9d08-fbdca772a4b4",
   "metadata": {},
   "outputs": [],
   "source": []
  },
  {
   "cell_type": "code",
   "execution_count": null,
   "id": "5b5d1c5b-fa6d-4552-a1d2-830eb97c11b4",
   "metadata": {},
   "outputs": [],
   "source": [
    "#6\n",
    "'''create list of elements like:x=[45,67,12,'hello',23.45,'world']\n",
    "and perform following operations\n",
    "1.extract only string values from this list\n",
    "2.create a new list with strings in uppercase\n",
    "3.find addition of integer values\n",
    "4.check that value 56 is present in it or not\n",
    "5.print list in reverse order\n",
    "6.delete string hello from it\n",
    "7.insert new value 36 at 5th position in list\n",
    "8.count total number of elements in list now \n",
    "9.extraxt values from 2nd index to 5th index\n",
    "10.append[34,'pune'] to the list\n",
    "11.delete the last element from the list\n",
    "'''"
   ]
  },
  {
   "cell_type": "code",
   "execution_count": 134,
   "id": "7aa25633-62fb-43a9-a95d-e335e975ad27",
   "metadata": {},
   "outputs": [],
   "source": [
    "x=[45,67,12,'hello',23.45,'world']"
   ]
  },
  {
   "cell_type": "code",
   "execution_count": 135,
   "id": "f8be6025-8d3f-4b5e-a278-c3b30adf099e",
   "metadata": {},
   "outputs": [
    {
     "data": {
      "text/plain": [
       "('hello', 'world')"
      ]
     },
     "execution_count": 135,
     "metadata": {},
     "output_type": "execute_result"
    }
   ],
   "source": [
    "#1.\n",
    "y=x[3],x[-1]            \n",
    "y"
   ]
  },
  {
   "cell_type": "code",
   "execution_count": 136,
   "id": "397e1f70-f131-42e2-8c85-8433a5d64c09",
   "metadata": {},
   "outputs": [
    {
     "data": {
      "text/plain": [
       "['HELLO', 'WORLD']"
      ]
     },
     "execution_count": 136,
     "metadata": {},
     "output_type": "execute_result"
    }
   ],
   "source": [
    "#2.\n",
    "y=[n.upper() for n in y]\n",
    "y"
   ]
  },
  {
   "cell_type": "code",
   "execution_count": 138,
   "id": "8f8d7298-fa7f-41dd-a973-2c2f3c1ae7f9",
   "metadata": {},
   "outputs": [],
   "source": [
    "#3.\n"
   ]
  },
  {
   "cell_type": "code",
   "execution_count": 14,
   "id": "c22e53ff-94fd-48f9-8da7-acae4e10112d",
   "metadata": {},
   "outputs": [
    {
     "data": {
      "text/plain": [
       "False"
      ]
     },
     "execution_count": 14,
     "metadata": {},
     "output_type": "execute_result"
    }
   ],
   "source": [
    "#4.\n",
    "56 in x"
   ]
  },
  {
   "cell_type": "code",
   "execution_count": 139,
   "id": "70a3fae8-1bbc-4581-b643-6621fe1f1df1",
   "metadata": {},
   "outputs": [
    {
     "data": {
      "text/plain": [
       "['world', 23.45, 'hello', 12, 67, 45]"
      ]
     },
     "execution_count": 139,
     "metadata": {},
     "output_type": "execute_result"
    }
   ],
   "source": [
    "#5.\n",
    "x.reverse() \n",
    "x"
   ]
  },
  {
   "cell_type": "code",
   "execution_count": 140,
   "id": "afb9883f-00f0-41d1-91c8-6bcd3903db9c",
   "metadata": {},
   "outputs": [
    {
     "data": {
      "text/plain": [
       "['world', 23.45, 12, 67, 45]"
      ]
     },
     "execution_count": 140,
     "metadata": {},
     "output_type": "execute_result"
    }
   ],
   "source": [
    "#6.\n",
    "x.remove('hello')\n",
    "x"
   ]
  },
  {
   "cell_type": "code",
   "execution_count": 141,
   "id": "9bb92fad-5848-4381-8a67-78705af25a7c",
   "metadata": {},
   "outputs": [
    {
     "data": {
      "text/plain": [
       "['world', 23.45, 12, 67, 36, 45]"
      ]
     },
     "execution_count": 141,
     "metadata": {},
     "output_type": "execute_result"
    }
   ],
   "source": [
    "#7.\n",
    "x.insert(4,36)               #5thposition ,i.e. 4th index\n",
    "x"
   ]
  },
  {
   "cell_type": "code",
   "execution_count": 46,
   "id": "f1ce5763-f3b8-4419-b2d4-c1d8350cd6d0",
   "metadata": {},
   "outputs": [
    {
     "data": {
      "text/plain": [
       "6"
      ]
     },
     "execution_count": 46,
     "metadata": {},
     "output_type": "execute_result"
    }
   ],
   "source": [
    "#8.\n",
    "len(x) "
   ]
  },
  {
   "cell_type": "code",
   "execution_count": 58,
   "id": "1839fc5f-2603-49c0-aeb1-870053ab77b0",
   "metadata": {},
   "outputs": [
    {
     "data": {
      "text/plain": [
       "[12, 67, 36]"
      ]
     },
     "execution_count": 58,
     "metadata": {},
     "output_type": "execute_result"
    }
   ],
   "source": [
    "#9.\n",
    "x[2:5] "
   ]
  },
  {
   "cell_type": "code",
   "execution_count": 74,
   "id": "1335eb9d-05a9-4393-ab5e-b90e37220eb0",
   "metadata": {},
   "outputs": [
    {
     "data": {
      "text/plain": [
       "['world', 23.45, 12, 67, 36, 45, [34, 'pune']]"
      ]
     },
     "execution_count": 74,
     "metadata": {},
     "output_type": "execute_result"
    }
   ],
   "source": [
    "#10.\n",
    "x.append([34,'pune'])\n",
    "x"
   ]
  },
  {
   "cell_type": "code",
   "execution_count": 94,
   "id": "a69844e8-cdcf-4a1e-a188-d5e43a5ccd30",
   "metadata": {},
   "outputs": [
    {
     "data": {
      "text/plain": [
       "['world', 23.45, 12, 67, 36]"
      ]
     },
     "execution_count": 94,
     "metadata": {},
     "output_type": "execute_result"
    }
   ],
   "source": [
    "#11.\n",
    "x.pop(-1)\n",
    "x"
   ]
  },
  {
   "cell_type": "code",
   "execution_count": null,
   "id": "a8a22a46-b466-43a9-95e1-a3d96607c478",
   "metadata": {},
   "outputs": [],
   "source": []
  },
  {
   "cell_type": "code",
   "execution_count": null,
   "id": "adda0db9-3674-457c-ada3-c34aed91e700",
   "metadata": {},
   "outputs": [],
   "source": [
    "#7\n",
    "'''create a tuple of elements with 5 float values in it and\n",
    "perform following operations:\n",
    "1.print data in sorted manner\n",
    "2.check to see that element 50 is present in it\n",
    "3.convert this tuple in set'''"
   ]
  },
  {
   "cell_type": "code",
   "execution_count": 95,
   "id": "6f4c13f8-6df0-4200-b446-50434d87ecde",
   "metadata": {},
   "outputs": [
    {
     "data": {
      "text/plain": [
       "(12.23, 34.45, 76.32, 56.87, 23.76)"
      ]
     },
     "execution_count": 95,
     "metadata": {},
     "output_type": "execute_result"
    }
   ],
   "source": [
    "t=(12.23,34.45,76.32,56.87,23.76)\n",
    "t"
   ]
  },
  {
   "cell_type": "code",
   "execution_count": 98,
   "id": "cfe4b398-c623-45ef-aece-f7353a562ecf",
   "metadata": {},
   "outputs": [
    {
     "data": {
      "text/plain": [
       "[12.23, 23.76, 34.45, 56.87, 76.32]"
      ]
     },
     "execution_count": 98,
     "metadata": {},
     "output_type": "execute_result"
    }
   ],
   "source": [
    "#1.\n",
    "sorted(t)"
   ]
  },
  {
   "cell_type": "code",
   "execution_count": 99,
   "id": "276deb75-8984-4538-97e9-2f86040c89e3",
   "metadata": {},
   "outputs": [
    {
     "data": {
      "text/plain": [
       "False"
      ]
     },
     "execution_count": 99,
     "metadata": {},
     "output_type": "execute_result"
    }
   ],
   "source": [
    "#2.\n",
    "50 in t"
   ]
  },
  {
   "cell_type": "code",
   "execution_count": 101,
   "id": "05673da0-7f94-4d5f-8cb1-5938107a65c3",
   "metadata": {},
   "outputs": [
    {
     "data": {
      "text/plain": [
       "[12.23, 34.45, 76.32, 56.87, 23.76]"
      ]
     },
     "execution_count": 101,
     "metadata": {},
     "output_type": "execute_result"
    }
   ],
   "source": [
    "#3.\n",
    "m=list(t)\n",
    "m"
   ]
  },
  {
   "cell_type": "code",
   "execution_count": null,
   "id": "f352f3f0-ed9f-4378-86c8-c2ffeeafabca",
   "metadata": {},
   "outputs": [],
   "source": []
  },
  {
   "cell_type": "code",
   "execution_count": null,
   "id": "f2b859a9-7d36-4775-9fc7-1364dbeb6db0",
   "metadata": {},
   "outputs": [],
   "source": [
    "#8\n",
    "'''create a dictionary of elements :{'a':'apple','b':'ball','c':'cat',\n",
    "'d':'doll','k':'king'} and perform following operations:\n",
    "1.access data at key 'k'\n",
    "2.add a new value 'z':'zebra'\n",
    "3.replace contents of 'd' as 'dog'\n",
    "4.print all values from dictionary\n",
    "5.find length of this dictionary'''"
   ]
  },
  {
   "cell_type": "code",
   "execution_count": 105,
   "id": "6fb7df25-6f30-4376-87a4-98829e9b765f",
   "metadata": {},
   "outputs": [
    {
     "data": {
      "text/plain": [
       "{'a': 'apple', 'b': 'ball', 'c': 'cat', 'd': 'doll', 'k': 'king'}"
      ]
     },
     "execution_count": 105,
     "metadata": {},
     "output_type": "execute_result"
    }
   ],
   "source": [
    "d={'a':'apple','b':'ball','c':'cat','d':'doll','k':'king'}\n",
    "d"
   ]
  },
  {
   "cell_type": "code",
   "execution_count": 106,
   "id": "654cfc7d-9eac-4ad9-bb17-65149a08218d",
   "metadata": {},
   "outputs": [
    {
     "data": {
      "text/plain": [
       "'king'"
      ]
     },
     "execution_count": 106,
     "metadata": {},
     "output_type": "execute_result"
    }
   ],
   "source": [
    "#1.\n",
    "d['k']"
   ]
  },
  {
   "cell_type": "code",
   "execution_count": 108,
   "id": "6c8aec23-fccc-4ab5-badc-6fb3f9fa1273",
   "metadata": {},
   "outputs": [
    {
     "data": {
      "text/plain": [
       "{'a': 'apple', 'b': 'ball', 'c': 'cat', 'd': 'doll', 'k': 'king', 'z': 'zebra'}"
      ]
     },
     "execution_count": 108,
     "metadata": {},
     "output_type": "execute_result"
    }
   ],
   "source": [
    "#2.\n",
    "d['z']='zebra'\n",
    "d"
   ]
  },
  {
   "cell_type": "code",
   "execution_count": 109,
   "id": "603a2257-3a00-49db-b9b0-98d5d3b86fe2",
   "metadata": {},
   "outputs": [
    {
     "data": {
      "text/plain": [
       "{'a': 'apple', 'b': 'ball', 'c': 'cat', 'd': 'dog', 'k': 'king', 'z': 'zebra'}"
      ]
     },
     "execution_count": 109,
     "metadata": {},
     "output_type": "execute_result"
    }
   ],
   "source": [
    "#3.\n",
    "d['d']='dog'\n",
    "d"
   ]
  },
  {
   "cell_type": "code",
   "execution_count": 110,
   "id": "dde0b7b1-f0ce-4620-a4ac-f8dc299350cc",
   "metadata": {},
   "outputs": [
    {
     "data": {
      "text/plain": [
       "dict_values(['apple', 'ball', 'cat', 'dog', 'king', 'zebra'])"
      ]
     },
     "execution_count": 110,
     "metadata": {},
     "output_type": "execute_result"
    }
   ],
   "source": [
    "#4.\n",
    "d.values()"
   ]
  },
  {
   "cell_type": "code",
   "execution_count": 142,
   "id": "bab972bf-05f2-4a00-b18a-415ef45d5ceb",
   "metadata": {},
   "outputs": [
    {
     "data": {
      "text/plain": [
       "6"
      ]
     },
     "execution_count": 142,
     "metadata": {},
     "output_type": "execute_result"
    }
   ],
   "source": [
    "#5.\n",
    "len(d)"
   ]
  },
  {
   "cell_type": "code",
   "execution_count": null,
   "id": "9c0b4c45-7297-46d7-91b7-cad0d4ec30dd",
   "metadata": {},
   "outputs": [],
   "source": []
  },
  {
   "cell_type": "code",
   "execution_count": null,
   "id": "85eefabc-d639-4b20-9817-e548abb94778",
   "metadata": {},
   "outputs": [],
   "source": [
    "#9\n",
    "'''wap to find second largest element in list'''"
   ]
  },
  {
   "cell_type": "code",
   "execution_count": 123,
   "id": "a452dabf-073c-4fc6-a0af-080485b85fff",
   "metadata": {},
   "outputs": [
    {
     "name": "stdout",
     "output_type": "stream",
     "text": [
      "second largest element is: 45\n"
     ]
    }
   ],
   "source": [
    "l=[12,23,34,45,56]\n",
    "sorted(l)\n",
    "print('second largest element is:',l[-2])"
   ]
  },
  {
   "cell_type": "code",
   "execution_count": null,
   "id": "3e1310b4-8235-46c5-a390-c0452e649efd",
   "metadata": {},
   "outputs": [],
   "source": []
  },
  {
   "cell_type": "code",
   "execution_count": null,
   "id": "34dbd862-93e9-40a8-a8c1-9395727ed65b",
   "metadata": {},
   "outputs": [],
   "source": [
    "#10\n",
    "'''this is list of some metallic elements:\n",
    "metals=['silver','gold'....]\n",
    "make a new list that is almost identical to metals list :\n",
    "the new contains same items,in same order,except that it does\n",
    "NOT contain the item 'copper'. '''"
   ]
  },
  {
   "cell_type": "code",
   "execution_count": 129,
   "id": "f22f2a37-66ac-4c6f-a652-1ad4d5c81ddd",
   "metadata": {},
   "outputs": [
    {
     "name": "stdout",
     "output_type": "stream",
     "text": [
      "metals from first list= ['silver', 'gold', 'copper', 'iron', 'zinc']\n",
      "metals from second list= ['silver', 'gold', 'iron', 'zinc']\n"
     ]
    }
   ],
   "source": [
    "metals=['silver','gold','copper','iron','zinc']\n",
    "print('metals from first list=',metals)\n",
    "metals.remove('copper')\n",
    "metals2=metals.copy()\n",
    "print('metals from second list=',metals2)"
   ]
  },
  {
   "cell_type": "code",
   "execution_count": null,
   "id": "bbeb9576-9002-4ffc-b49e-70d8f0f82acf",
   "metadata": {},
   "outputs": [],
   "source": []
  },
  {
   "cell_type": "code",
   "execution_count": 130,
   "id": "e7cbec74-18be-4d2e-a3e6-c09886a3ddde",
   "metadata": {},
   "outputs": [],
   "source": [
    "##THANK YOU!!!"
   ]
  }
 ],
 "metadata": {
  "kernelspec": {
   "display_name": "Python 3 (ipykernel)",
   "language": "python",
   "name": "python3"
  },
  "language_info": {
   "codemirror_mode": {
    "name": "ipython",
    "version": 3
   },
   "file_extension": ".py",
   "mimetype": "text/x-python",
   "name": "python",
   "nbconvert_exporter": "python",
   "pygments_lexer": "ipython3",
   "version": "3.11.7"
  }
 },
 "nbformat": 4,
 "nbformat_minor": 5
}
